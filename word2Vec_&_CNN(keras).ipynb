{
  "nbformat": 4,
  "nbformat_minor": 0,
  "metadata": {
    "colab": {
      "name": "word2Vec & CNN(keras).ipynb",
      "provenance": [],
      "machine_shape": "hm",
      "include_colab_link": true
    },
    "kernelspec": {
      "name": "python3",
      "display_name": "Python 3"
    },
    "accelerator": "GPU"
  },
  "cells": [
    {
      "cell_type": "markdown",
      "metadata": {
        "id": "view-in-github",
        "colab_type": "text"
      },
      "source": [
        "<a href=\"https://colab.research.google.com/github/komosam/word2Vec_CNN_-keras-/blob/master/word2Vec_%26_CNN(keras).ipynb\" target=\"_parent\"><img src=\"https://colab.research.google.com/assets/colab-badge.svg\" alt=\"Open In Colab\"/></a>"
      ]
    },
    {
      "cell_type": "code",
      "metadata": {
        "id": "WjXrcNrrP0Bn",
        "colab_type": "code",
        "colab": {}
      },
      "source": [
        "\n",
        "#!pip install keras\n",
        "# ref https://towardsdatascience.com/another-twitter-sentiment-analysis-with-python-part-11-cnn-word2vec-41f5e28eda74"
      ],
      "execution_count": 0,
      "outputs": []
    },
    {
      "cell_type": "code",
      "metadata": {
        "id": "GyTL-mAdRHPi",
        "colab_type": "code",
        "colab": {}
      },
      "source": [
        "import pandas as pd\n",
        "import numpy as np\n",
        "from gensim.models import Word2Vec"
      ],
      "execution_count": 0,
      "outputs": []
    },
    {
      "cell_type": "code",
      "metadata": {
        "id": "St9jPwZwQ09g",
        "colab_type": "code",
        "colab": {}
      },
      "source": [
        "train_df  = pd.read_csv('train.csv',header=None)  ## Yelp review dataset\n",
        "test_df   = pd.read_csv('test.csv',header=None)\n",
        "## The column label is 2 and 1 instead of 0 and 1\n",
        "train_df[0] = (train_df[0]==2).astype(int)\n",
        "test_df[0]  = (test_df[0]==2).astype(int)\n",
        "\n",
        "x_train = train_df[1]\n",
        "y_train = train_df[0]\n",
        "\n",
        "x_validation = test_df[1]\n",
        "y_validation = test_df[0]"
      ],
      "execution_count": 0,
      "outputs": []
    },
    {
      "cell_type": "code",
      "metadata": {
        "id": "un6LLNoARDW3",
        "colab_type": "code",
        "colab": {}
      },
      "source": [
        "\n",
        "#word2vec_model = gensim.models.Word2Vec.load_word2vec_format('./model/GoogleNews-vectors-negative300.bin', binary=True) \n",
        "\n",
        "## train own word2Vec\n",
        "word2vec_model = Word2Vec(x_validation,size=250,window=10,min_count=2,workers=10,iter=10)\n",
        "\n"
      ],
      "execution_count": 0,
      "outputs": []
    },
    {
      "cell_type": "code",
      "metadata": {
        "id": "YFnDkeLXUG8q",
        "colab_type": "code",
        "colab": {}
      },
      "source": [
        "### Tokenizing text:\n",
        "\n",
        "from keras.preprocessing.text import Tokenizer\n",
        "from keras.preprocessing.sequence import pad_sequences\n",
        "\n",
        "tokenizer = Tokenizer(num_words=100000)\n",
        "tokenizer.fit_on_texts(x_train)\n",
        "sequences = tokenizer.texts_to_sequences(x_train)"
      ],
      "execution_count": 0,
      "outputs": []
    },
    {
      "cell_type": "code",
      "metadata": {
        "id": "24Vgbcbze2gw",
        "colab_type": "code",
        "colab": {}
      },
      "source": [
        "### Embedding\n",
        "\n",
        "\n",
        "embeddings_index = {}\n",
        "for w in word2vec_model.wv.vocab.keys():\n",
        "  embeddings_index[w] = word2vec_model.wv[w]\n",
        "\n",
        "## Limiting the number of words to 100000\n",
        "\n",
        "num_words = 100000\n",
        "embedding_matrix = np.zeros((num_words, 250))\n",
        "for word, i in tokenizer.word_index.items():\n",
        "    if i >= num_words:\n",
        "        continue\n",
        "    embedding_vector = embeddings_index.get(word)\n",
        "    \n",
        "    if embedding_vector is not None:\n",
        "        embedding_matrix[i] = embedding_vector\n"
      ],
      "execution_count": 0,
      "outputs": []
    },
    {
      "cell_type": "code",
      "metadata": {
        "id": "3JrrDifuTmpj",
        "colab_type": "code",
        "colab": {
          "base_uri": "https://localhost:8080/",
          "height": 34
        },
        "outputId": "db1ddda5-06b6-4f65-c6b5-ba8272647e98"
      },
      "source": [
        "## Get max length of the sequence\n",
        "\n",
        "length = []\n",
        "\n",
        "for x in x_train:\n",
        "  length.append(len(x.split()))\n",
        "max(length)"
      ],
      "execution_count": 34,
      "outputs": [
        {
          "output_type": "execute_result",
          "data": {
            "text/plain": [
              "1052"
            ]
          },
          "metadata": {
            "tags": []
          },
          "execution_count": 34
        }
      ]
    },
    {
      "cell_type": "code",
      "metadata": {
        "id": "K9V8k5XmXcJK",
        "colab_type": "code",
        "colab": {}
      },
      "source": [
        "### Padding ----goes to input of model\n",
        "x_train_seq = pad_sequences(sequences,maxlen=1000)"
      ],
      "execution_count": 0,
      "outputs": []
    },
    {
      "cell_type": "code",
      "metadata": {
        "id": "MTZ-4HzmXty7",
        "colab_type": "code",
        "colab": {}
      },
      "source": [
        "### Data prep for validation set \n",
        "\n",
        "sequences_val = tokenizer.texts_to_sequences(x_validation)\n",
        "x_val_seq = pad_sequences(sequences_val, maxlen=1000)"
      ],
      "execution_count": 0,
      "outputs": []
    },
    {
      "cell_type": "code",
      "metadata": {
        "id": "9l6vXDZ8X813",
        "colab_type": "code",
        "colab": {}
      },
      "source": [
        "### Embedding Matrix \n"
      ],
      "execution_count": 0,
      "outputs": []
    },
    {
      "cell_type": "code",
      "metadata": {
        "id": "aJuh1_QNYHy2",
        "colab_type": "code",
        "colab": {
          "base_uri": "https://localhost:8080/",
          "height": 292
        },
        "outputId": "d49b1e81-c273-4ffd-f778-c6b6965b0d7a"
      },
      "source": [
        "# test_ modelling \n",
        "\n",
        "from keras.models import Sequential\n",
        "from keras.layers import Dense, Dropout\n",
        "from keras.layers import Flatten,Conv1D,GlobalMaxPooling1D\n",
        "from keras.layers.embeddings import Embedding\n",
        "\n",
        "model_cnn_02 = Sequential()\n",
        "e = Embedding(100000, 150,weights=[embedding_matrix], input_length=1000)\n",
        "model_cnn_02.add(e)\n",
        "model_cnn_02.add(Conv1D(filters=100, kernel_size=2, padding='valid', activation='relu', strides=1))\n",
        "model_cnn_02.add(GlobalMaxPooling1D())\n",
        "model_cnn_02.add(Dense(256, activation='relu'))\n",
        "model_cnn_02.add(Dense(1, activation='sigmoid'))\n",
        "model_cnn_02.compile(loss='binary_crossentropy', optimizer='adam', metrics=['accuracy'])\n",
        "#model_cnn_02.fit(x_train_seq, y_train, validation_data=(x_val_seq, y_validation), epochs=2, batch_size=32, verbose=2)\n"
      ],
      "execution_count": 9,
      "outputs": [
        {
          "output_type": "stream",
          "text": [
            "WARNING:tensorflow:From /usr/local/lib/python3.6/dist-packages/keras/backend/tensorflow_backend.py:66: The name tf.get_default_graph is deprecated. Please use tf.compat.v1.get_default_graph instead.\n",
            "\n",
            "WARNING:tensorflow:From /usr/local/lib/python3.6/dist-packages/keras/backend/tensorflow_backend.py:541: The name tf.placeholder is deprecated. Please use tf.compat.v1.placeholder instead.\n",
            "\n",
            "WARNING:tensorflow:From /usr/local/lib/python3.6/dist-packages/keras/backend/tensorflow_backend.py:4432: The name tf.random_uniform is deprecated. Please use tf.random.uniform instead.\n",
            "\n",
            "WARNING:tensorflow:From /usr/local/lib/python3.6/dist-packages/keras/backend/tensorflow_backend.py:190: The name tf.get_default_session is deprecated. Please use tf.compat.v1.get_default_session instead.\n",
            "\n",
            "WARNING:tensorflow:From /usr/local/lib/python3.6/dist-packages/keras/backend/tensorflow_backend.py:197: The name tf.ConfigProto is deprecated. Please use tf.compat.v1.ConfigProto instead.\n",
            "\n",
            "WARNING:tensorflow:From /usr/local/lib/python3.6/dist-packages/keras/optimizers.py:793: The name tf.train.Optimizer is deprecated. Please use tf.compat.v1.train.Optimizer instead.\n",
            "\n",
            "WARNING:tensorflow:From /usr/local/lib/python3.6/dist-packages/tensorflow/python/ops/nn_impl.py:180: add_dispatch_support.<locals>.wrapper (from tensorflow.python.ops.array_ops) is deprecated and will be removed in a future version.\n",
            "Instructions for updating:\n",
            "Use tf.where in 2.0, which has the same broadcast rule as np.where\n"
          ],
          "name": "stdout"
        }
      ]
    },
    {
      "cell_type": "code",
      "metadata": {
        "id": "X1kxCvC-svnE",
        "colab_type": "code",
        "colab": {}
      },
      "source": [
        ""
      ],
      "execution_count": 0,
      "outputs": []
    },
    {
      "cell_type": "code",
      "metadata": {
        "id": "Xlmc64NTZ1GN",
        "colab_type": "code",
        "colab": {}
      },
      "source": [
        "from keras.layers import Input, Dense, concatenate, Activation\n",
        "from keras.models import Model\n",
        "from keras.layers.embeddings import Embedding\n",
        "from keras.callbacks import ModelCheckpoint"
      ],
      "execution_count": 0,
      "outputs": []
    },
    {
      "cell_type": "code",
      "metadata": {
        "id": "9tnIqgPhZ5uL",
        "colab_type": "code",
        "colab": {
          "base_uri": "https://localhost:8080/",
          "height": 425
        },
        "outputId": "0952eef6-9b91-4834-8101-a0ec014c6565"
      },
      "source": [
        "input_layer = Input(shape=(1000,),dtype='int32')\n",
        "embedding_layer = Embedding(100000, 250,weights=[embedding_matrix], input_length=1000)(input_layer)\n",
        "bigram_branch = Conv1D(filters=100, kernel_size=2, padding='valid', activation='relu', strides=1)(embedding_layer)\n",
        "bigram_branch = GlobalMaxPooling1D()(bigram_branch)\n",
        "#merged = concatenate([bigram_branch, trigram_branch, fourgram_branch], axis=1)\n",
        "merged = Dense(256, activation='relu')(bigram_branch)\n",
        "merged = Dropout(0.2)(merged)\n",
        "merged = Dense(1)(merged)\n",
        "output = Activation('sigmoid')(merged)\n",
        "model = Model(inputs=[input_layer], outputs=[output])\n",
        "model.compile(loss='binary_crossentropy',\n",
        "                  optimizer='adam',\n",
        "                  metrics=['accuracy'])\n",
        "model.summary()"
      ],
      "execution_count": 39,
      "outputs": [
        {
          "output_type": "stream",
          "text": [
            "Model: \"model_3\"\n",
            "_________________________________________________________________\n",
            "Layer (type)                 Output Shape              Param #   \n",
            "=================================================================\n",
            "input_4 (InputLayer)         (None, 1000)              0         \n",
            "_________________________________________________________________\n",
            "embedding_5 (Embedding)      (None, 1000, 250)         25000000  \n",
            "_________________________________________________________________\n",
            "conv1d_4 (Conv1D)            (None, 999, 100)          50100     \n",
            "_________________________________________________________________\n",
            "global_max_pooling1d_4 (Glob (None, 100)               0         \n",
            "_________________________________________________________________\n",
            "dense_7 (Dense)              (None, 256)               25856     \n",
            "_________________________________________________________________\n",
            "dropout_3 (Dropout)          (None, 256)               0         \n",
            "_________________________________________________________________\n",
            "dense_8 (Dense)              (None, 1)                 257       \n",
            "_________________________________________________________________\n",
            "activation_3 (Activation)    (None, 1)                 0         \n",
            "=================================================================\n",
            "Total params: 25,076,213\n",
            "Trainable params: 25,076,213\n",
            "Non-trainable params: 0\n",
            "_________________________________________________________________\n"
          ],
          "name": "stdout"
        }
      ]
    },
    {
      "cell_type": "code",
      "metadata": {
        "id": "Q81cqw9Tea_r",
        "colab_type": "code",
        "colab": {
          "base_uri": "https://localhost:8080/",
          "height": 391
        },
        "outputId": "73d46342-409c-4d4e-9fb8-7b53e6fc39b5"
      },
      "source": [
        "filepath=\"CNN_best_weights.{epoch:02d}-{val_acc:.4f}.hdf5\"\n",
        "checkpoint = ModelCheckpoint(filepath, monitor='val_acc', verbose=1, save_best_only=True, mode='max')\n",
        "model.fit(x_train_seq, y_train, batch_size=32, epochs=5,\n",
        "                     validation_data=(x_val_seq, y_validation), callbacks = [checkpoint])"
      ],
      "execution_count": 40,
      "outputs": [
        {
          "output_type": "stream",
          "text": [
            "Train on 560000 samples, validate on 38000 samples\n",
            "Epoch 1/5\n",
            "560000/560000 [==============================] - 437s 780us/step - loss: 0.1656 - acc: 0.9335 - val_loss: 0.1288 - val_acc: 0.9502\n",
            "\n",
            "Epoch 00001: val_acc improved from -inf to 0.95024, saving model to CNN_best_weights.01-0.9502.hdf5\n",
            "Epoch 2/5\n",
            "560000/560000 [==============================] - 436s 779us/step - loss: 0.1118 - acc: 0.9583 - val_loss: 0.1289 - val_acc: 0.9512\n",
            "\n",
            "Epoch 00002: val_acc improved from 0.95024 to 0.95118, saving model to CNN_best_weights.02-0.9512.hdf5\n",
            "Epoch 3/5\n",
            "560000/560000 [==============================] - 436s 778us/step - loss: 0.0844 - acc: 0.9695 - val_loss: 0.1327 - val_acc: 0.9525\n",
            "\n",
            "Epoch 00003: val_acc improved from 0.95118 to 0.95247, saving model to CNN_best_weights.03-0.9525.hdf5\n",
            "Epoch 4/5\n",
            "560000/560000 [==============================] - 436s 778us/step - loss: 0.0610 - acc: 0.9786 - val_loss: 0.1546 - val_acc: 0.9500\n",
            "\n",
            "Epoch 00004: val_acc did not improve from 0.95247\n",
            "Epoch 5/5\n",
            "560000/560000 [==============================] - 436s 778us/step - loss: 0.0425 - acc: 0.9856 - val_loss: 0.1651 - val_acc: 0.9478\n",
            "\n",
            "Epoch 00005: val_acc did not improve from 0.95247\n"
          ],
          "name": "stdout"
        },
        {
          "output_type": "execute_result",
          "data": {
            "text/plain": [
              "<keras.callbacks.History at 0x7f8893754cf8>"
            ]
          },
          "metadata": {
            "tags": []
          },
          "execution_count": 40
        }
      ]
    },
    {
      "cell_type": "code",
      "metadata": {
        "id": "02i9qI2sdmkr",
        "colab_type": "code",
        "colab": {
          "base_uri": "https://localhost:8080/",
          "height": 51
        },
        "outputId": "f7d9ca74-4b95-4ca6-b867-573bcba1d861"
      },
      "source": [
        "from keras.models import load_model\n",
        "loaded_CNN_model = load_model('CNN_best_weights.01-0.9087.hdf5')\n",
        "loaded_CNN_model.evaluate(x=x_val_seq, y=y_validation)"
      ],
      "execution_count": 14,
      "outputs": [
        {
          "output_type": "stream",
          "text": [
            "38000/38000 [==============================] - 1s 35us/step\n"
          ],
          "name": "stdout"
        },
        {
          "output_type": "execute_result",
          "data": {
            "text/plain": [
              "[0.22363740062399914, 0.9086842105263158]"
            ]
          },
          "metadata": {
            "tags": []
          },
          "execution_count": 14
        }
      ]
    },
    {
      "cell_type": "code",
      "metadata": {
        "id": "OC2k_6fAd-eX",
        "colab_type": "code",
        "colab": {}
      },
      "source": [
        "### BaseLine model TFIDF\n",
        "\n",
        "from sklearn.feature_extraction.text import TfidfVectorizer\n",
        "tvec = TfidfVectorizer(max_features=100000,ngram_range=(1, 3))\n",
        "tvec.fit(x_train)\n",
        "x_train_tfidf = tvec.transform(x_train)\n",
        "x_test_tfidf = tvec.transform(x_validation)\n"
      ],
      "execution_count": 0,
      "outputs": []
    },
    {
      "cell_type": "code",
      "metadata": {
        "id": "g4JwfKl-hvT-",
        "colab_type": "code",
        "colab": {
          "base_uri": "https://localhost:8080/",
          "height": 88
        },
        "outputId": "6f0db99b-957a-4fee-f59f-81f511189ce2"
      },
      "source": [
        "from sklearn.linear_model import LogisticRegression\n",
        "\n",
        "lr_with_tfidf = LogisticRegression()\n",
        "lr_with_tfidf.fit(x_train_tfidf,y_train)\n",
        "yhat_lr = lr_with_tfidf.predict_proba(x_test_tfidf)\n",
        "lr_with_tfidf.score(x_test_tfidf,y_validation)"
      ],
      "execution_count": 19,
      "outputs": [
        {
          "output_type": "stream",
          "text": [
            "/usr/local/lib/python3.6/dist-packages/sklearn/linear_model/logistic.py:432: FutureWarning: Default solver will be changed to 'lbfgs' in 0.22. Specify a solver to silence this warning.\n",
            "  FutureWarning)\n"
          ],
          "name": "stderr"
        },
        {
          "output_type": "execute_result",
          "data": {
            "text/plain": [
              "0.9559473684210527"
            ]
          },
          "metadata": {
            "tags": []
          },
          "execution_count": 19
        }
      ]
    },
    {
      "cell_type": "code",
      "metadata": {
        "id": "Jkn7rFj1eIIf",
        "colab_type": "code",
        "colab": {
          "base_uri": "https://localhost:8080/",
          "height": 51
        },
        "outputId": "9d53a883-b040-407b-e9c0-8790e5b11e20"
      },
      "source": [
        "### Deep Learning Model \n",
        "\n",
        "sequences_test = tokenizer.texts_to_sequences(x_validation)\n",
        "x_test_seq = pad_sequences(sequences_test, maxlen=45)\n",
        "yhat_cnn = loaded_CNN_model.predict(x_test_seq)\n",
        "loaded_CNN_model.evaluate(x=x_test_seq, y=y_validation)"
      ],
      "execution_count": 23,
      "outputs": [
        {
          "output_type": "stream",
          "text": [
            "38000/38000 [==============================] - 1s 34us/step\n"
          ],
          "name": "stdout"
        },
        {
          "output_type": "execute_result",
          "data": {
            "text/plain": [
              "[0.22363740062399914, 0.9086842105263158]"
            ]
          },
          "metadata": {
            "tags": []
          },
          "execution_count": 23
        }
      ]
    },
    {
      "cell_type": "code",
      "metadata": {
        "id": "2O4NuKTPhaw0",
        "colab_type": "code",
        "colab": {
          "base_uri": "https://localhost:8080/",
          "height": 470
        },
        "outputId": "c38ccb45-fc16-45b3-e867-c0946f9b01b2"
      },
      "source": [
        "from sklearn.metrics import roc_curve, auc\n",
        "import matplotlib.pyplot as plt\n",
        "\n",
        "\n",
        "\n",
        "fpr, tpr, threshold = roc_curve(y_validation, yhat_lr[:,1])\n",
        "roc_auc = auc(fpr, tpr)\n",
        "fpr_cnn, tpr_cnn, threshold = roc_curve(y_validation, yhat_cnn)\n",
        "roc_auc_nn = auc(fpr_cnn, tpr_cnn)\n",
        "plt.figure(figsize=(8,7))\n",
        "plt.plot(fpr, tpr, label='tfidf-logit (area = %0.3f)' % roc_auc, linewidth=2)\n",
        "plt.plot(fpr_cnn, tpr_cnn, label='w2v-CNN (area = %0.3f)' % roc_auc_nn, linewidth=2)\n",
        "\n",
        "plt.plot([0, 1], [0, 1], 'k--', linewidth=2)\n",
        "plt.xlim([-0.05, 1.0])\n",
        "plt.ylim([-0.05, 1.05])\n",
        "plt.xlabel('False Positive Rate', fontsize=18)\n",
        "plt.ylabel('True Positive Rate', fontsize=18)\n",
        "plt.title('Receiver operating characteristic: is positive', fontsize=18)\n",
        "plt.legend(loc=\"lower right\")\n",
        "plt.show()"
      ],
      "execution_count": 26,
      "outputs": [
        {
          "output_type": "display_data",
          "data": {
            "image/png": "[encoded data removed]",
            "text/plain": [
              "<Figure size 576x504 with 1 Axes>"
            ]
          },
          "metadata": {
            "tags": []
          }
        }
      ]
    },
    {
      "cell_type": "code",
      "metadata": {
        "id": "AC8nzE8His2g",
        "colab_type": "code",
        "colab": {}
      },
      "source": [
        ""
      ],
      "execution_count": 0,
      "outputs": []
    }
  ]
}